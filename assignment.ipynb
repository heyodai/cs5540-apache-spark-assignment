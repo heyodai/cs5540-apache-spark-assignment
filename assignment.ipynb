{
 "cells": [
  {
   "attachments": {},
   "cell_type": "markdown",
   "metadata": {},
   "source": [
    "# CS 5540 - Group 1 - Apache Spark Assignment\n",
    "\n",
    "This is the submission document for our programming assignment over Apache Spark. \n",
    "\n",
    "The submission was written as a Jupyter notebook but will be exported to a PDF for submission. We can provide the GitHub repo or the original Jupyter notebook if requested."
   ]
  },
  {
   "cell_type": "code",
   "execution_count": 2,
   "metadata": {},
   "outputs": [
    {
     "name": "stdout",
     "output_type": "stream",
     "text": [
      "23/02/27 11:13:15 WARN Utils: Your hostname, Odais-MacBook-Air.local resolves to a loopback address: 127.0.0.1; using 10.161.4.110 instead (on interface en0)\n",
      "23/02/27 11:13:15 WARN Utils: Set SPARK_LOCAL_IP if you need to bind to another address\n"
     ]
    },
    {
     "name": "stderr",
     "output_type": "stream",
     "text": [
      "Setting default log level to \"WARN\".\n",
      "To adjust logging level use sc.setLogLevel(newLevel). For SparkR, use setLogLevel(newLevel).\n"
     ]
    },
    {
     "name": "stdout",
     "output_type": "stream",
     "text": [
      "23/02/27 11:13:15 WARN NativeCodeLoader: Unable to load native-hadoop library for your platform... using builtin-java classes where applicable\n"
     ]
    }
   ],
   "source": [
    "from pyspark.sql import SparkSession\n",
    "from pyspark import SparkContext\n",
    "from pyspark.sql.functions import col, split, explode\n",
    "\n",
    "spark = SparkSession.builder\\\n",
    "    .appName(\"my-spark-app\")\\\n",
    "    .config(\"spark.sql.catalogImplementation\", \"hive\")\\\n",
    "    .getOrCreate()\n",
    "sc = SparkContext.getOrCreate()"
   ]
  },
  {
   "attachments": {},
   "cell_type": "markdown",
   "metadata": {},
   "source": [
    "## Table of Contents\n",
    "\n",
    "1. [Team Members](#team-members)"
   ]
  },
  {
   "attachments": {},
   "cell_type": "markdown",
   "metadata": {},
   "source": [
    "## Team Members\n",
    "\n",
    "This assignment was completed by the following team members (Group 1):\n",
    "\n",
    "- Ayushman Das\n",
    "- Koti Paruchuri\n",
    "- Odai Athamneh\n",
    "- Scott Brunton\n",
    "- Varshith Thota"
   ]
  },
  {
   "attachments": {},
   "cell_type": "markdown",
   "metadata": {},
   "source": [
    "## Question 1\n",
    "\n",
    "Question 1 is as follows: \n",
    "\n",
    "> Given file (`/data/shakespeare-1.txt`) contains the scenes from Shakespeare’s plays. You may use this \n",
    "file as an input dataset to identify the following notes for a student of Classical Drama."
   ]
  },
  {
   "cell_type": "code",
   "execution_count": 3,
   "metadata": {},
   "outputs": [
    {
     "name": "stderr",
     "output_type": "stream",
     "text": [
      "[Stage 0:>                                                          (0 + 1) / 1]\r"
     ]
    },
    {
     "name": "stdout",
     "output_type": "stream",
     "text": [
      "+-----+\n",
      "|word |\n",
      "+-----+\n",
      "|This |\n",
      "|is   |\n",
      "|the  |\n",
      "|100th|\n",
      "|Etext|\n",
      "+-----+\n",
      "only showing top 5 rows\n",
      "\n"
     ]
    },
    {
     "name": "stderr",
     "output_type": "stream",
     "text": [
      "                                                                                \r"
     ]
    }
   ],
   "source": [
    "# load the text file into a dataframe\n",
    "df = spark.read.text(\"data/shakespeare-1.txt\")\n",
    "\n",
    "# split the text into words\n",
    "df = df.select(split(col(\"value\"), \" \").alias(\"words\"))\n",
    "\n",
    "# explode the array of words into separate rows\n",
    "df = df.select(explode(col(\"words\")).alias(\"word\"))\n",
    "\n",
    "# show the first 5 words\n",
    "df.show(5, truncate=False)\n"
   ]
  },
  {
   "attachments": {},
   "cell_type": "markdown",
   "metadata": {},
   "source": [
    "### Question 1.1\n",
    "\n",
    "The question reads as follows:\n",
    "\n",
    "> How many different countries are mentioned in the whole file? (Regardless of how many times a single country is mentioned, this country only contributes as a single entry). \n",
    "\n",
    "To address this question, we need a dataset of country names. There are many possible approaches to this problem, but we decided to use a dataset from [Kaggle](https://www.kaggle.com/datasets/fernandol/countries-of-the-world) that is sourced from the US government. This CSV file contains information on 227 present-day countries, including their names, population, and other information. We will use the `Country` column as our list of country names.\n",
    "\n",
    "The caveat to this approach is that the dataset may not contain all countries, such as: \n",
    "- Countries that no longer exist\n",
    "- Countries that are misspelled in the original Shakespearean text\n",
    "- Countries where the name or spelling has changed over time\n",
    "\n",
    "Addressing this issue is beyond the scope of this assignment and would likely require some degree of manual curation."
   ]
  },
  {
   "cell_type": "code",
   "execution_count": 4,
   "metadata": {},
   "outputs": [
    {
     "name": "stdout",
     "output_type": "stream",
     "text": [
      "+---------------+\n",
      "|Country        |\n",
      "+---------------+\n",
      "|Afghanistan    |\n",
      "|Albania        |\n",
      "|Algeria        |\n",
      "|American Samoa |\n",
      "|Andorra        |\n",
      "+---------------+\n",
      "only showing top 5 rows\n",
      "\n"
     ]
    }
   ],
   "source": [
    "countries = spark.read.csv(\"data/countries.csv\", header=True)\n",
    "countries = countries.select(\"Country\")\n",
    "countries.show(5, truncate=False)"
   ]
  },
  {
   "attachments": {},
   "cell_type": "markdown",
   "metadata": {},
   "source": [
    "Now that we have our list of countries, we can use a simple `.join()` to find the number of countries mentioned in the Shakespearean text. We will use the `Country` column as our key and perform an inner join with the Shakespearean text. This will return a new DataFrame with only the rows that have a match in both DataFrames. We can then use `.count()` to get the number of rows in the resulting DataFrame."
   ]
  },
  {
   "cell_type": "code",
   "execution_count": 14,
   "metadata": {},
   "outputs": [
    {
     "name": "stdout",
     "output_type": "stream",
     "text": [
      "+----+-------+\n",
      "|word|Country|\n",
      "+----+-------+\n",
      "+----+-------+\n",
      "\n"
     ]
    }
   ],
   "source": [
    "df.join(countries, df.word == countries.Country).show(5, truncate=False)"
   ]
  },
  {
   "cell_type": "code",
   "execution_count": 15,
   "metadata": {},
   "outputs": [
    {
     "name": "stdout",
     "output_type": "stream",
     "text": [
      "Afghanistan \n",
      "Albania \n",
      "Algeria \n",
      "American Samoa \n",
      "Andorra \n",
      "Angola \n",
      "Anguilla \n",
      "Antigua & Barbuda \n",
      "Argentina \n",
      "Armenia \n",
      "Aruba \n",
      "Australia \n",
      "Austria \n",
      "Azerbaijan \n",
      "Bahamas, The \n",
      "Bahrain \n",
      "Bangladesh \n",
      "Barbados \n",
      "Belarus \n",
      "Belgium \n",
      "Belize \n",
      "Benin \n",
      "Bermuda \n",
      "Bhutan \n",
      "Bolivia \n",
      "Bosnia & Herzegovina \n",
      "Botswana \n",
      "Brazil \n",
      "British Virgin Is. \n",
      "Brunei \n",
      "Bulgaria \n",
      "Burkina Faso \n",
      "Burma \n",
      "Burundi \n",
      "Cambodia \n",
      "Cameroon \n",
      "Canada \n",
      "Cape Verde \n",
      "Cayman Islands \n",
      "Central African Rep. \n",
      "Chad \n",
      "Chile \n",
      "China \n",
      "Colombia \n",
      "Comoros \n",
      "Congo, Dem. Rep. \n",
      "Congo, Repub. of the \n",
      "Cook Islands \n",
      "Costa Rica \n",
      "Cote d'Ivoire \n",
      "Croatia \n",
      "Cuba \n",
      "Cyprus \n",
      "Czech Republic \n",
      "Denmark \n",
      "Djibouti \n",
      "Dominica \n",
      "Dominican Republic \n",
      "East Timor \n",
      "Ecuador \n",
      "Egypt \n",
      "El Salvador \n",
      "Equatorial Guinea \n",
      "Eritrea \n",
      "Estonia \n",
      "Ethiopia \n",
      "Faroe Islands \n",
      "Fiji \n",
      "Finland \n",
      "France \n",
      "French Guiana \n",
      "French Polynesia \n",
      "Gabon \n",
      "Gambia, The \n",
      "Gaza Strip \n",
      "Georgia \n",
      "Germany \n",
      "Ghana \n",
      "Gibraltar \n",
      "Greece \n",
      "Greenland \n",
      "Grenada \n",
      "Guadeloupe \n",
      "Guam \n",
      "Guatemala \n",
      "Guernsey \n",
      "Guinea \n",
      "Guinea-Bissau \n",
      "Guyana \n",
      "Haiti \n",
      "Honduras \n",
      "Hong Kong \n",
      "Hungary \n",
      "Iceland \n",
      "India \n",
      "Indonesia \n",
      "Iran \n",
      "Iraq \n",
      "Ireland \n",
      "Isle of Man \n",
      "Israel \n",
      "Italy \n",
      "Jamaica \n",
      "Japan \n",
      "Jersey \n",
      "Jordan \n",
      "Kazakhstan \n",
      "Kenya \n",
      "Kiribati \n",
      "Korea, North \n",
      "Korea, South \n",
      "Kuwait \n",
      "Kyrgyzstan \n",
      "Laos \n",
      "Latvia \n",
      "Lebanon \n",
      "Lesotho \n",
      "Liberia \n",
      "Libya \n",
      "Liechtenstein \n",
      "Lithuania \n",
      "Luxembourg \n",
      "Macau \n",
      "Macedonia \n",
      "Madagascar \n",
      "Malawi \n",
      "Malaysia \n",
      "Maldives \n",
      "Mali \n",
      "Malta \n",
      "Marshall Islands \n",
      "Martinique \n",
      "Mauritania \n",
      "Mauritius \n",
      "Mayotte \n",
      "Mexico \n",
      "Micronesia, Fed. St. \n",
      "Moldova \n",
      "Monaco \n",
      "Mongolia \n",
      "Montserrat \n",
      "Morocco \n",
      "Mozambique \n",
      "Namibia \n",
      "Nauru \n",
      "Nepal \n",
      "Netherlands \n",
      "Netherlands Antilles \n",
      "New Caledonia \n",
      "New Zealand \n",
      "Nicaragua \n",
      "Niger \n",
      "Nigeria \n",
      "N. Mariana Islands \n",
      "Norway \n",
      "Oman \n",
      "Pakistan \n",
      "Palau \n",
      "Panama \n",
      "Papua New Guinea \n",
      "Paraguay \n",
      "Peru \n",
      "Philippines \n",
      "Poland \n",
      "Portugal \n",
      "Puerto Rico \n",
      "Qatar \n",
      "Reunion \n",
      "Romania \n",
      "Russia \n",
      "Rwanda \n",
      "Saint Helena \n",
      "Saint Kitts & Nevis \n",
      "Saint Lucia \n",
      "St Pierre & Miquelon \n",
      "Saint Vincent and the Grenadines \n",
      "Samoa \n",
      "San Marino \n",
      "Sao Tome & Principe \n",
      "Saudi Arabia \n",
      "Senegal \n",
      "Serbia \n",
      "Seychelles \n",
      "Sierra Leone \n",
      "Singapore \n",
      "Slovakia \n",
      "Slovenia \n",
      "Solomon Islands \n",
      "Somalia \n",
      "South Africa \n",
      "Spain \n",
      "Sri Lanka \n",
      "Sudan \n",
      "Suriname \n",
      "Swaziland \n",
      "Sweden \n",
      "Switzerland \n",
      "Syria \n",
      "Taiwan \n",
      "Tajikistan \n",
      "Tanzania \n",
      "Thailand \n",
      "Togo \n",
      "Tonga \n",
      "Trinidad & Tobago \n",
      "Tunisia \n",
      "Turkey \n",
      "Turkmenistan \n",
      "Turks & Caicos Is \n",
      "Tuvalu \n",
      "Uganda \n",
      "Ukraine \n",
      "United Arab Emirates \n",
      "United Kingdom \n",
      "United States \n",
      "Uruguay \n",
      "Uzbekistan \n",
      "Vanuatu \n",
      "Venezuela \n",
      "Vietnam \n",
      "Virgin Islands \n",
      "Wallis and Futuna \n",
      "West Bank \n",
      "Western Sahara \n",
      "Yemen \n",
      "Zambia \n",
      "Zimbabwe \n"
     ]
    },
    {
     "data": {
      "text/plain": [
       "[]"
      ]
     },
     "execution_count": 15,
     "metadata": {},
     "output_type": "execute_result"
    }
   ],
   "source": [
    "output = []\n",
    "\n",
    "for country in countries.collect():\n",
    "    print(country.Country)\n",
    "\n",
    "    if df.filter(df.word == country.Country).count() > 0:\n",
    "        output.append(country.Country)\n",
    "        \n",
    "output"
   ]
  }
 ],
 "metadata": {
  "kernelspec": {
   "display_name": "env",
   "language": "python",
   "name": "python3"
  },
  "language_info": {
   "codemirror_mode": {
    "name": "ipython",
    "version": 3
   },
   "file_extension": ".py",
   "mimetype": "text/x-python",
   "name": "python",
   "nbconvert_exporter": "python",
   "pygments_lexer": "ipython3",
   "version": "3.10.9"
  },
  "orig_nbformat": 4,
  "vscode": {
   "interpreter": {
    "hash": "52d158634e85a4a13156a2aa9aa4d203fab0b0eaa50959d6ad1d28e12f0e62a4"
   }
  }
 },
 "nbformat": 4,
 "nbformat_minor": 2
}
