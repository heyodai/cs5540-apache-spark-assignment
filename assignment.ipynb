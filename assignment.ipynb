{
 "cells": [
  {
   "attachments": {},
   "cell_type": "markdown",
   "metadata": {},
   "source": [
    "# CS 5540 - Group 1 - Apache Spark Assignment\n",
    "\n",
    "This is the submission document for our programming assignment over Apache Spark. \n",
    "\n",
    "The submission was written as a Jupyter notebook but will be exported to a PDF for submission. We can provide the GitHub repo or the original Jupyter notebook if requested."
   ]
  },
  {
   "cell_type": "code",
   "execution_count": 23,
   "metadata": {},
   "outputs": [],
   "source": [
    "from pyspark.sql import SparkSession\n",
    "from pyspark import SparkContext\n",
    "from pyspark.sql.functions import col, split, explode, lower, trim\n",
    "\n",
    "spark = SparkSession.builder\\\n",
    "    .appName(\"my-spark-app\")\\\n",
    "    .config(\"spark.sql.catalogImplementation\", \"hive\")\\\n",
    "    .getOrCreate()\n",
    "sc = SparkContext.getOrCreate()"
   ]
  },
  {
   "attachments": {},
   "cell_type": "markdown",
   "metadata": {},
   "source": [
    "## Table of Contents\n",
    "\n",
    "1. [Team Members](#team-members)"
   ]
  },
  {
   "attachments": {},
   "cell_type": "markdown",
   "metadata": {},
   "source": [
    "## Team Members\n",
    "\n",
    "This assignment was completed by the following team members (Group 1):\n",
    "\n",
    "- Ayushman Das\n",
    "- Koti Paruchuri\n",
    "- Odai Athamneh\n",
    "- Scott Brunton\n",
    "- Varshith Thota"
   ]
  },
  {
   "attachments": {},
   "cell_type": "markdown",
   "metadata": {},
   "source": [
    "## Question 1\n",
    "\n",
    "Question 1 is as follows: \n",
    "\n",
    "> Given file (`/data/shakespeare-1.txt`) contains the scenes from Shakespeare’s plays. You may use this \n",
    "file as an input dataset to identify the following notes for a student of Classical Drama."
   ]
  },
  {
   "cell_type": "code",
   "execution_count": 24,
   "metadata": {},
   "outputs": [
    {
     "name": "stdout",
     "output_type": "stream",
     "text": [
      "+-----+\n",
      "|word |\n",
      "+-----+\n",
      "|this |\n",
      "|is   |\n",
      "|the  |\n",
      "|100th|\n",
      "|etext|\n",
      "+-----+\n",
      "only showing top 5 rows\n",
      "\n"
     ]
    }
   ],
   "source": [
    "# tokenize input text file and clean the word column\n",
    "df = spark.read.text(\"data/shakespeare-1.txt\")\n",
    "\n",
    "df = df.select(explode(split(col(\"value\"), \" \")).alias(\"word\"))\n",
    "df = df.select(lower(trim(col(\"word\"))).alias(\"word\"))\n",
    "\n",
    "df.show(5, truncate=False)"
   ]
  },
  {
   "attachments": {},
   "cell_type": "markdown",
   "metadata": {},
   "source": [
    "### Question 1.1\n",
    "\n",
    "The question reads as follows:\n",
    "\n",
    "> How many different countries are mentioned in the whole file? (Regardless of how many times a single country is mentioned, this country only contributes as a single entry). \n",
    "\n",
    "To address this question, we need a dataset of country names. We are using the `country-list.csv` file provided by the professor. The file contains 211 entries. \n",
    "\n",
    "The caveat to this approach is that the dataset may not contain all countries, such as: \n",
    "- Countries that no longer exist\n",
    "- Countries that are misspelled in the original Shakespearean text\n",
    "- Countries where the name or spelling has changed over time\n",
    "\n",
    "Addressing this issue is beyond the scope of this assignment and would likely require some degree of manual curation."
   ]
  },
  {
   "cell_type": "code",
   "execution_count": 25,
   "metadata": {},
   "outputs": [
    {
     "name": "stdout",
     "output_type": "stream",
     "text": [
      "+--------------+\n",
      "|country       |\n",
      "+--------------+\n",
      "|afghanistan   |\n",
      "|albania       |\n",
      "|algeria       |\n",
      "|american samoa|\n",
      "|andorra       |\n",
      "+--------------+\n",
      "only showing top 5 rows\n",
      "\n"
     ]
    },
    {
     "data": {
      "text/plain": [
       "211"
      ]
     },
     "execution_count": 25,
     "metadata": {},
     "output_type": "execute_result"
    }
   ],
   "source": [
    "# load countries dataframe and clean the country column\n",
    "countries = spark.read.csv(\"data/country-list.csv\", header=False)\n",
    "countries = countries.select(lower(trim(\"_c0\")).alias(\"country\"))\n",
    "\n",
    "countries.show(5, truncate=False)\n",
    "countries.count()"
   ]
  },
  {
   "attachments": {},
   "cell_type": "markdown",
   "metadata": {},
   "source": [
    "Now that we have our list of countries, we can use a simple `.join()` to find the number of countries mentioned in the Shakespearean text. We will use the `Country` column as our key and perform an inner join with the Shakespearean text. This will return a new DataFrame with only the rows that have a match in both DataFrames. We can then use `.count()` to get the number of rows in the resulting DataFrame."
   ]
  },
  {
   "cell_type": "code",
   "execution_count": 27,
   "metadata": {},
   "outputs": [
    {
     "name": "stdout",
     "output_type": "stream",
     "text": [
      "+-------+\n",
      "|country|\n",
      "+-------+\n",
      "|greece |\n",
      "|poland |\n",
      "|austria|\n",
      "|guinea |\n",
      "|france |\n",
      "+-------+\n",
      "only showing top 5 rows\n",
      "\n",
      "Number of unique countries in the text file: 22\n"
     ]
    }
   ],
   "source": [
    "# perform join after converting both columns to lowercase and trimming the country column\n",
    "unique_countries = df.join(countries, df.word == countries.country, \"inner\").select(\"country\").distinct()\n",
    "unique_countries.show(5, truncate=False)\n",
    "\n",
    "print(\"Number of unique countries in the text file: {}\".format(unique_countries.count()))"
   ]
  },
  {
   "attachments": {},
   "cell_type": "markdown",
   "metadata": {},
   "source": [
    "### Question 1.2\n",
    "\n",
    "The question reads as follows:\n",
    "\n",
    "> Compute the total number of times any country is mentioned. (This is different from  the  question1.1,  since  in  this  calculation,  if  a  country  is  mentioned  three  times,  then  it contributes three times). \n",
    "\n",
    "The code to do this is below. Note that, by default, a Jupyter notebook will only show the first 20 rows of the resulting DataFrame. We use `.show(1000)` to ensure all rows are listed."
   ]
  },
  {
   "cell_type": "code",
   "execution_count": 29,
   "metadata": {},
   "outputs": [
    {
     "name": "stdout",
     "output_type": "stream",
     "text": [
      "+---------+-----+\n",
      "|country  |count|\n",
      "+---------+-----+\n",
      "|france   |149  |\n",
      "|england  |128  |\n",
      "|scotland |24   |\n",
      "|egypt    |15   |\n",
      "|wales    |15   |\n",
      "|italy    |12   |\n",
      "|cyprus   |10   |\n",
      "|denmark  |10   |\n",
      "|greece   |6    |\n",
      "|oman     |4    |\n",
      "|norway   |3    |\n",
      "|austria  |3    |\n",
      "|syria    |3    |\n",
      "|spain    |2    |\n",
      "|poland   |1    |\n",
      "|guinea   |1    |\n",
      "|iceland  |1    |\n",
      "|germany  |1    |\n",
      "|palestine|1    |\n",
      "|turkey   |1    |\n",
      "|russia   |1    |\n",
      "|armenia  |1    |\n",
      "+---------+-----+\n",
      "\n"
     ]
    }
   ],
   "source": [
    "country_mentions = df.join(countries, df.word == countries.country, \"inner\").select(\"country\").groupBy(\"country\").count().orderBy(\"count\", ascending=False)\n",
    "\n",
    "country_mentions.show(1000, truncate=False)"
   ]
  }
 ],
 "metadata": {
  "kernelspec": {
   "display_name": "env",
   "language": "python",
   "name": "python3"
  },
  "language_info": {
   "codemirror_mode": {
    "name": "ipython",
    "version": 3
   },
   "file_extension": ".py",
   "mimetype": "text/x-python",
   "name": "python",
   "nbconvert_exporter": "python",
   "pygments_lexer": "ipython3",
   "version": "3.10.9"
  },
  "orig_nbformat": 4,
  "vscode": {
   "interpreter": {
    "hash": "52d158634e85a4a13156a2aa9aa4d203fab0b0eaa50959d6ad1d28e12f0e62a4"
   }
  }
 },
 "nbformat": 4,
 "nbformat_minor": 2
}
