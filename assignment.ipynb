{
 "cells": [
  {
   "attachments": {},
   "cell_type": "markdown",
   "metadata": {},
   "source": [
    "# CS 5540 - Group 1 - Apache Spark Assignment\n",
    "\n",
    "This is the submission document for our programming assignment over Apache Spark."
   ]
  },
  {
   "attachments": {},
   "cell_type": "markdown",
   "metadata": {},
   "source": [
    "## Table of Contents\n",
    "\n",
    "1. [Team Members](#team-members)"
   ]
  },
  {
   "attachments": {},
   "cell_type": "markdown",
   "metadata": {},
   "source": [
    "## Team Members\n",
    "\n",
    "This assignment was completed by the following team members (Group 1):\n",
    "\n",
    "- Ayushman Das\n",
    "- Koti Paruchuri\n",
    "- Odai Athamneh\n",
    "- Scott Brunton\n",
    "- Varshith Thota"
   ]
  },
  {
   "attachments": {},
   "cell_type": "markdown",
   "metadata": {},
   "source": [
    "## Question 1\n",
    "\n",
    "Question 1 is as follows: \n",
    "\n",
    "> Given file (`/data/shakespeare-1.txt`) contains the scenes from Shakespeare’s plays. You may use this \n",
    "file as an input dataset to identify the following notes for a student of Classical Drama."
   ]
  },
  {
   "cell_type": "code",
   "execution_count": null,
   "metadata": {},
   "outputs": [],
   "source": []
  }
 ],
 "metadata": {
  "kernelspec": {
   "display_name": "base",
   "language": "python",
   "name": "python3"
  },
  "language_info": {
   "name": "python",
   "version": "3.9.12"
  },
  "orig_nbformat": 4,
  "vscode": {
   "interpreter": {
    "hash": "e7cb1b9ae4d417fedf7f40a8eec98f7cfbd359e096bd857395a915f4609834ce"
   }
  }
 },
 "nbformat": 4,
 "nbformat_minor": 2
}
